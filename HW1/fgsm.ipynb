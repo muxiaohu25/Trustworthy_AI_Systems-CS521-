{
  "cells": [
    {
      "cell_type": "code",
      "execution_count": 1,
      "metadata": {
        "id": "F6HGpjU5QqTm"
      },
      "outputs": [],
      "source": [
        "# HW 1 Problem 1 Part 1"
      ]
    },
    {
      "cell_type": "code",
      "execution_count": 117,
      "metadata": {
        "colab": {
          "base_uri": "https://localhost:8080/"
        },
        "id": "6I3yFsHVXBZw",
        "outputId": "395b523f-bc26-4d7b-a09b-7d3393c9f36a"
      },
      "outputs": [
        {
          "name": "stdout",
          "output_type": "stream",
          "text": [
            "Original Class:  2\n",
            "tensor([[0.0133, 0.0089, 0.0032]], grad_fn=<MmBackward0>)\n",
            "New Class:  0\n",
            "tensor(0.5000)\n"
          ]
        }
      ],
      "source": [
        "import torch\n",
        "import torch.nn as nn\n",
        "\n",
        "\n",
        "# fix seed so that random initialization always performs the same\n",
        "torch.manual_seed(13)\n",
        "\n",
        "\n",
        "# create the model N as described in the question\n",
        "N = nn.Sequential(nn.Linear(10, 10, bias=False),\n",
        "                  nn.ReLU(),\n",
        "                  nn.Linear(10, 10, bias=False),\n",
        "                  nn.ReLU(),\n",
        "                  nn.Linear(10, 3, bias=False))\n",
        "\n",
        "# random input\n",
        "x = torch.rand((1,10)) # the first dimension is the batch size; the following dimensions the actual dimension of the data\n",
        "x.requires_grad_() # this is required so we can compute the gradient w.r.t x\n",
        "\n",
        "t = 0 # target class\n",
        "\n",
        "epsReal = 0.5  #depending on your data this might be large or small\n",
        "eps = epsReal - 1e-7 # small constant to offset floating-point erros\n",
        "\n",
        "# The network N classfies x as belonging to class 2\n",
        "original_class = N(x).argmax(dim=1).item()  # TO LEARN: make sure you understand this expression\n",
        "print(\"Original Class: \", original_class)\n",
        "assert(original_class == 2)\n",
        "\n",
        "# compute gradient\n",
        "# note that CrossEntropyLoss() combines the cross-entropy loss and an implicit softmax function\n",
        "L = nn.CrossEntropyLoss()\n",
        "loss = L(N(x), torch.tensor([t], dtype=torch.long)) # TO LEARN: make sure you understand this line\n",
        "loss.backward()\n",
        "\n",
        "# your code here\n",
        "# adv_x should be computed from x according to the fgsm-style perturbation such that the new class of xBar is the target class t above\n",
        "# hint: you can compute the gradient of the loss w.r.t to x as x.grad\n",
        "# Calculate the gradient of loss\n",
        "grad = x.grad\n",
        "# Update eta\n",
        "eta = eps * grad.sign()\n",
        "# Perturb the input\n",
        "adv_x = x - eta\n",
        "\n",
        "new_class = N(adv_x).argmax(dim=1).item()\n",
        "print(\"New Class: \", new_class)\n",
        "assert(new_class == t)\n",
        "# it is not enough that adv_x is classified as t. We also need to make sure it is 'close' to the original x.\n",
        "print(torch.norm((x-adv_x),  p=float('inf')).data)\n",
        "assert( torch.norm((x-adv_x), p=float('inf')) <= epsReal)"
      ]
    },
    {
      "cell_type": "code",
      "execution_count": null,
      "metadata": {
        "id": "pnBVNzo3IOx1"
      },
      "outputs": [],
      "source": [
        "# HW 1 Problem 1 Part 2"
      ]
    },
    {
      "cell_type": "code",
      "execution_count": 124,
      "metadata": {
        "colab": {
          "base_uri": "https://localhost:8080/"
        },
        "id": "0lNgqIDD9Y6D",
        "outputId": "7d739d2d-7f1f-46ef-ad95-0849fd7b3b0d"
      },
      "outputs": [
        {
          "name": "stdout",
          "output_type": "stream",
          "text": [
            "Original Class:  2\n",
            "New Class:  1\n",
            "tensor(1.1500)\n"
          ]
        }
      ],
      "source": [
        "import torch\n",
        "import torch.nn as nn\n",
        "\n",
        "\n",
        "# fix seed so that random initialization always performs the same\n",
        "torch.manual_seed(13)\n",
        "\n",
        "\n",
        "# create the model N as described in the question\n",
        "N = nn.Sequential(nn.Linear(10, 10, bias=False),\n",
        "                  nn.ReLU(),\n",
        "                  nn.Linear(10, 10, bias=False),\n",
        "                  nn.ReLU(),\n",
        "                  nn.Linear(10, 3, bias=False))\n",
        "\n",
        "# random input\n",
        "x = torch.rand((1,10)) # the first dimension is the batch size; the following dimensions the actual dimension of the data\n",
        "x.requires_grad_() # this is required so we can compute the gradient w.r.t x\n",
        "\n",
        "t = 1 # target class\n",
        "\n",
        "epsReal = 1.15  #depending on your data this might be large or small\n",
        "eps = epsReal - 1e-7 # small constant to offset floating-point erros\n",
        "\n",
        "# The network N classfies x as belonging to class 2\n",
        "original_class = N(x).argmax(dim=1).item()  # TO LEARN: make sure you understand this expression\n",
        "print(\"Original Class: \", original_class)\n",
        "assert(original_class == 2)\n",
        "\n",
        "# compute gradient\n",
        "# note that CrossEntropyLoss() combines the cross-entropy loss and an implicit softmax function\n",
        "L = nn.CrossEntropyLoss()\n",
        "loss = L(N(x), torch.tensor([t], dtype=torch.long)) # TO LEARN: make sure you understand this line\n",
        "loss.backward()\n",
        "\n",
        "# your code here\n",
        "# adv_x should be computed from x according to the fgsm-style perturbation such that the new class of xBar is the target class t above\n",
        "# hint: you can compute the gradient of the loss w.r.t to x as x.grad\n",
        "# Calculate the gradient of loss\n",
        "grad = x.grad\n",
        "# Update eta\n",
        "eta = eps * grad.sign()\n",
        "# Perturb the input\n",
        "adv_x = x - eta\n",
        "\n",
        "new_class = N(adv_x).argmax(dim=1).item()\n",
        "print(\"New Class: \", new_class)\n",
        "assert(new_class == t)\n",
        "# it is not enough that adv_x is classified as t. We also need to make sure it is 'close' to the original x.\n",
        "print(torch.norm((x-adv_x),  p=float('inf')).data)\n",
        "assert( torch.norm((x-adv_x), p=float('inf')) <= epsReal)"
      ]
    }
  ],
  "metadata": {
    "colab": {
      "provenance": []
    },
    "kernelspec": {
      "display_name": "Python 3",
      "name": "python3"
    },
    "language_info": {
      "name": "python"
    }
  },
  "nbformat": 4,
  "nbformat_minor": 0
}
